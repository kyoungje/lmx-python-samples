{
 "cells": [
  {
   "cell_type": "markdown",
   "id": "4ecaf3bf-0f59-455c-8d11-84453e54b2ea",
   "metadata": {},
   "source": [
    "# 📖 [LMX Tutorial] Absolute and Relative motion\n",
    "http://download.movensys.com:8111/wmx3/en/html/api/page_WMXDOC_TUTORIAL_SEC3_1_ABS_REL.html"
   ]
  },
  {
   "cell_type": "markdown",
   "id": "21364093-6272-4be9-be00-b8dc680e105b",
   "metadata": {},
   "source": [
    "## Start LMX engine"
   ]
  },
  {
   "cell_type": "code",
   "execution_count": 2,
   "id": "c2a20bf4-4f9b-40a0-947a-73a5c4937bf7",
   "metadata": {
    "editable": true,
    "slideshow": {
     "slide_type": ""
    },
    "tags": []
   },
   "outputs": [
    {
     "name": "stdout",
     "output_type": "stream",
     "text": [
      "[2025-02-12 02:31:37.489][WMX3Engine]Build: Oct 16 2024:11:35:23 (v3.5.0.0)\n",
      "[2025-02-12 02:31:38.394][WMX3Engine]LicenseVerify: Valid WMX3 license code is not found.\n",
      "[2025-02-12 02:31:38.444][WMX3Engine]Free license running mode is applied.\n",
      "[2025-02-12 02:31:38.444][WMX3Engine]WMX3Engine will stop communicating after one hour of continuous communication.\n",
      "lmx engine is started!\n"
     ]
    }
   ],
   "source": [
    "!/opt/lmx/bin/lmx-start-engine"
   ]
  },
  {
   "cell_type": "markdown",
   "id": "fb08326d-70a7-4a13-84a2-19a137acf0e1",
   "metadata": {},
   "source": [
    "## Import WMX library and Initialize a WMX3 API device"
   ]
  },
  {
   "cell_type": "code",
   "execution_count": 5,
   "id": "6e258e72-23a7-45d5-b621-8aef6b09ca65",
   "metadata": {},
   "outputs": [
    {
     "data": {
      "text/plain": [
       "<WMX3ApiPython.WMX3Api; proxy of <Swig Object of type 'wmx3ApiPython::WMX3Api *' at 0x755f49c55470> >"
      ]
     },
     "execution_count": 5,
     "metadata": {},
     "output_type": "execute_result"
    }
   ],
   "source": [
    "# Import WMX3 API library\n",
    "from WMX3ApiPython import *\n",
    "from time import *\n",
    "\n",
    "# Constants\n",
    "INFINITE = int(0xFFFFFFFF)\n",
    "\n",
    "# When all the devices are done, the WMX3 engine will also terminate.\t\n",
    "wmx3Lib = WMX3Api()\n",
    "wmx3LibCore = CoreMotion(wmx3Lib)\n",
    "wmxLog = Log(wmx3Lib)\n",
    "wmxMemLogStatus = MemoryLogStatus()\n",
    "# wmxEventCtrl = EventControl()\n",
    "\n",
    "# Create a device.\n",
    "wmx3Lib.CreateDevice('/opt/lmx', DeviceType.DeviceTypeNormal, INFINITE)\n",
    "\n",
    "# Set wmx3Lib Name.\n",
    "wmx3Lib.SetDeviceName('device')\n",
    "wmx3Lib"
   ]
  },
  {
   "cell_type": "markdown",
   "id": "235de7f8-9960-4bb4-9b61-4a8950736638",
   "metadata": {},
   "source": [
    "# Import Python libraries and declare utility functions\n"
   ]
  },
  {
   "cell_type": "code",
   "execution_count": 5,
   "id": "4ca17573-fcc9-4df5-829c-7921e987a02f",
   "metadata": {},
   "outputs": [],
   "source": [
    "import numpy as np\n",
    "import pandas as pd\n",
    "import seaborn as sns\n",
    "import matplotlib.pyplot as plt\n",
    "from matplotlib import rc\n",
    "\n",
    "%matplotlib inline\n",
    "%config InlineBackend.figure_format='retina'\n",
    "\n",
    "sns.set(style='whitegrid', palette='muted', font_scale=1.2)\n",
    "HAPPY_COLORS_PALETTE = [\"#01BEFE\", \"#FFDD00\", \"#FF7D00\", \"#FF006D\", \"#ADFF02\", \"#8F00FF\"]\n",
    "sns.set_palette(sns.color_palette(HAPPY_COLORS_PALETTE))\n",
    "\n",
    "title_font = {\n",
    "    'fontsize': 16,\n",
    "    'fontweight': 'bold'\n",
    "}\n",
    "\n",
    "# Plot utility functions\n",
    "def plotPosMotion(df):\n",
    "    plt.plot(df['Timestamp'].head(1000), df['DcDiffAvg'].head(1000))\n",
    "    plt.xlabel('Time [cycle]')\n",
    "    plt.ylabel('Position [p]')\n",
    "    plt.title('Position Plot')\n",
    "\n",
    "# Plot the velocity  plot\n",
    "def plotVelMotion(df):\n",
    "    plt.plot(df['Timestamp'].head(1000), df['DcDiffAvg'].head(1000))\n",
    "    plt.xlabel('Time [cycle]')\n",
    "    plt.ylabel('Velocity [p/s]')\n",
    "    plt.title('velocity  Plot')\n",
    "\n",
    "def OP_STATE(state):\n",
    "    if state == OperationState.Idle:\n",
    "        return \"Idle\"\n",
    "    elif state == OperationState.Pos:\n",
    "        return \"Pos\"\n",
    "    elif state == OperationState.Jog:\n",
    "        return \"Jog\"\n",
    "    elif state == OperationState.Home:\n",
    "        return \"Home\"\n",
    "    elif state == OperationState.Sync:\n",
    "        return \"Sync\"\n",
    "    elif state == OperationState.GantryHome:\n",
    "        return \"GantryHome\"\n",
    "    elif state == OperationState.Stop:\n",
    "        return \"Stop\"\n",
    "    elif state == OperationState.Intpl:\n",
    "        return \"Intpl\"\n",
    "    elif state == OperationState.List:\n",
    "        return \"List\"\n",
    "    elif state == OperationState.ConstLinearVelocity:\n",
    "        return \"ConstLinearVelocity\"\n",
    "    elif state == OperationState.Trq:\n",
    "        return \"Trq\"\n",
    "    elif state == OperationState.DirectControl:\n",
    "        return \"DirectControl\"\n",
    "    elif state == OperationState.PVT:\n",
    "        return \"PVT\"\n",
    "    elif state == OperationState.ECAM:\n",
    "        return \"ECAM\"\n",
    "    elif state == OperationState.SyncCatchUp:\n",
    "        return \"SyncCatchUp\"\n",
    "    elif state == OperationState.DancerControl:\n",
    "        return \"DancerControl\"\n",
    "    else:\n",
    "        return \"\"\n",
    "\n",
    "def dumpStatus(cmAxis):\n",
    "    print(\" 1.PosCmd    :%-11.3f\" % cmAxis.posCmd)             # 1. PosCmd\n",
    "    print(\" 2.ActPos    :%-11.3f\" % cmAxis.actualPos)          # 2. ActualPos\n",
    "    print(\" 3.ActVel    :%-11.3f\" % cmAxis.actualVelocity)     # 3. ActualVelocity\n",
    "    print(\" 4.ActTrq    :%-11.3f\" % cmAxis.actualTorque)       # 4. ActualTorque \n",
    "    print(\" 5.AmpAlm    :%-3d\"    % cmAxis.ampAlarm)           # 5. AmpAlarm\n",
    "    print(\" 6.AmpAlmCode:0x%05x\"  % cmAxis.ampAlarmCode)       # 6. AmpAlarmCode \n",
    "    print(\" 7.SrvOn     :%-3d\"    % cmAxis.servoOn)            # 7. ServoOn\n",
    "    print(\" 8.HomeDone  :%-4d\"    % cmAxis.homeDone)           # 8. HomeDone \n",
    "    print(\" 9.InPos     :%-3d\"    % cmAxis.inPos)              # 9. InPos\n",
    "    print(\"10.NegLS     :%-3d\"    % cmAxis.negativeLS)         # 10.negativeLS\n",
    "    print(\"11.PosLS     :%-3d\"    % cmAxis.positiveLS)         # 11.positiveLS\n",
    "    print(\"12.HomeSw    :%-4d\"    % cmAxis.homeSwitch)         # 12.homeSwitch\n",
    "    print(\"13.OpState   :%s\"      % OP_STATE(cmAxis.opState))  # 13.OperationState"
   ]
  },
  {
   "cell_type": "code",
   "execution_count": 6,
   "id": "3355173b-7778-4b4e-9fc6-c95562a6607f",
   "metadata": {},
   "outputs": [],
   "source": [
    "import multiprocessing\n",
    "\n",
    "def LogUpdateTask (channel, dumpFlag=True):\n",
    "    history = [np.zeros((0,)), np.zeros((0,))]\n",
    "   \n",
    "    while True:\n",
    "        updateLogdata, overflowFlag = UpdateLogData(channel, 0)\n",
    "\n",
    "        if overflowFlag:\n",
    "            print(f'Overflow: {overflowFlag}');\n",
    "        if not updateLogdata or len(updateLogdata) == 0:\n",
    "            break\n",
    "        if dumpFlag:\n",
    "            print(f'Read log buffer size: {len(updateLogdata)}')\n",
    "            \n",
    "        np_feedbackPos = [data.feedbackPos for data in updateLogdata]\n",
    "        np_feedbackVelocity = [data.feedbackVelocity for data in updateLogdata]\n",
    "        \n",
    "        history[0] = np.concatenate((history[0], np_feedbackPos), axis=0)\n",
    "        history[1] = np.concatenate((history[1], np_feedbackVelocity), axis=0)\n",
    "\n",
    "    if dumpFlag:\n",
    "        print(f'Updated data size: {history[0].size}, {history[1].size}')\n",
    "        print(history)\n",
    "\n",
    "    return_logupdater['history'] = history\n",
    "\n",
    "manager = multiprocessing.Manager()\n",
    "return_logupdater = manager.dict()"
   ]
  },
  {
   "cell_type": "code",
   "execution_count": 7,
   "id": "b2ea65b9-0d86-48e2-9e81-eb66cab6007f",
   "metadata": {
    "editable": true,
    "slideshow": {
     "slide_type": ""
    },
    "tags": []
   },
   "outputs": [],
   "source": [
    "from WMX3ApiPython import constants\n",
    "\n",
    "log_channel = 0\n",
    "overflowFlag = 0\n",
    "\n",
    "def CheckErrorCode(func, errCode):\n",
    "    if errCode != ErrorCode.PyNone:\n",
    "        if errCode >= 0x00000 and errCode <= 0x10000:\n",
    "           lastErrString =  f\"function: {func}, ErrorType: WMX3Api, ErrorCode: {errCode}\"\n",
    "        elif errCode >= 0x11000 and errCode <= 0x11FFF:\n",
    "            lastErrString = f\"function: {func}, ErrorType: Log, ErrorCode: {errCode}\"\n",
    "        else:\n",
    "            lastErrString = f\"function: {func}, ErrorType: Undefined, ErrorCode: {errCode}\"\n",
    "        \n",
    "        print(lastErrString)\n",
    "        return False\n",
    "    return True\n",
    "\n",
    "def IsAvailableLogChannel(channel):    \n",
    "    ret, memLogStatus = wmxLog.GetMemoryLogStatus(channel)    \n",
    "    if ret != ErrorCode.PyNone:\n",
    "        CheckErrorCode(\"GetMemoryLogStatus\", ret)\n",
    "        return False\n",
    "    \n",
    "    if memLogStatus.logState != LogState.Idle or memLogStatus.bufferOpened == True:\n",
    "        print(f\"memLogStatus.LogState: {memLogStatus.logState}, memLogStatus.bufferOpened: {memLogStatus.bufferOpened}\")\n",
    "        return False\n",
    "    else:\n",
    "        return True\n",
    "\n",
    "def _CheckMemoryLogChannel():\n",
    "    channel = -1\n",
    "    for curchannel in range(constants.maxLogChannel - 1, 1, -1):\n",
    "        print(f\"curchannel: {curchannel}\")\n",
    "        if IsAvailableLogChannel(curchannel):\n",
    "            ret = wmxLog.OpenMemoryLogBuffer(curchannel);\n",
    "            if ret == ErrorCode.PyNone:\n",
    "                channel = curchannel   \n",
    "                break\n",
    "            else:\n",
    "                CheckErrorCode(\"OpenMemoryLogBuffer\", ret)                \n",
    "\n",
    "    return channel\n",
    "\n",
    "def _CloseMemoryLog(channel):\n",
    "    retryCount = 100\n",
    "\n",
    "    for i in range (retryCount):\n",
    "        ret, memLogStatus = wmxLog.GetMemoryLogStatus(channel)\n",
    "        if ret != ErrorCode.PyNone:\n",
    "            CheckErrorCode(\"GetMemoryLogStatus\", ret)\n",
    "            return False\n",
    "\n",
    "        if memLogStatus.logState == LogState.Idle:\n",
    "           break\n",
    "\n",
    "        ret = wmxLog.StopMemoryLog(channel)\n",
    "        if ret != ErrorCode.PyNone:\n",
    "            CheckErrorCode(\"StopMemoryLog\", ret)\n",
    "            return False\n",
    "\n",
    "        sleep(5)\n",
    "            \n",
    "    if ret != ErrorCode.PyNone:\n",
    "        CheckErrorCode(\"_CloseMemoryLog\", ret)\n",
    "        return False\n",
    "\n",
    "    return True\n",
    "\n",
    "def UpdateLogData(channel, axis=0):\n",
    "    updatedLogdata = None\n",
    "    overflowFlag = False\n",
    "\n",
    "    ret, memLogData = wmxLog.GetMemoryLogData(channel)\n",
    "    if ret != ErrorCode.PyNone:\n",
    "        CheckErrorCode(\"GetMemoryLogData\", ret)\n",
    "        return None, False\n",
    "\n",
    "    overflowFlag = memLogData.overflowFlag > 0\n",
    "\n",
    "    updatedLogdata = [None]*memLogData.count\n",
    "    for index in range(memLogData.count):\n",
    "        logdata = memLogData.GetLogData(index)                                       \n",
    "        updatedLogdata[index] = logdata.GetLogAxisData(axis)\n",
    "    \n",
    "    return updatedLogdata, overflowFlag\n",
    "\n",
    "def StartLog():\n",
    "    \n",
    "    StopLog(log_channel)\n",
    "    \n",
    "    maxAxes = 2\n",
    "    channel = _CheckMemoryLogChannel()\n",
    "    updaterProc = None\n",
    "    \n",
    "    if channel != -1:\n",
    "        axisSel = AxisSelection()\n",
    "        \n",
    "        axisSel.axisCount = maxAxes;\n",
    "        for idx in range(maxAxes):\n",
    "            axisSel.SetAxis(idx, idx)\n",
    "\n",
    "        evi = CoreMotionEventInput()\n",
    "        evi.inputFunction  = CoreMotionEventInputType.OpState;\n",
    "        inputFuncArg = CoreMotionEventInputFunctionArguments_OpState()\n",
    "        inputFuncArg.opState = OperationState.Pos\n",
    "        inputFuncArg.axis = 0\n",
    "        inputFuncArg.invert = 0\n",
    "        evi.opState = inputFuncArg\n",
    "        \n",
    "        # Set the output function to None\n",
    "        evo = EventApiEventOutput()\n",
    "        evo.outputFunction = EventApiEventOutputType.PyNone;\n",
    "       \n",
    "        memOption = MemoryLogOptions()\n",
    "        memOption.triggerEventCount = 0\n",
    "\n",
    "        ret, eventId = wmxEventCtrl.SetEvent(evi, evo)\n",
    "        if ret != ErrorCode.PyNone:\n",
    "            CheckErrorCode(\"SetEvent\", ret)            \n",
    "        else:\n",
    "            memOption.triggerEventCount = 1\n",
    "            memOption.SetTriggerEventID(0, eventId)\n",
    "            wmxEventCtrl.EnableEvent(eventId, 1)\n",
    "    \n",
    "        ret = wmxLog.SetMemoryLog(channel, axisSel, memOption)\n",
    "        if ret != ErrorCode.PyNone:\n",
    "            CheckErrorCode(\"SetMemoryLog\", ret)\n",
    "            return -1\n",
    "        \n",
    "        ret = wmxLog.StartMemoryLog(channel)\n",
    "        if ret != ErrorCode.PyNone:\n",
    "            CheckErrorCode(\"StartMemoryLog\", ret)\n",
    "            return -1\n",
    "\n",
    "        updaterProc = Process(target=LogUpdateTask, args=(channel,))\n",
    "        updaterProc.start()\n",
    "\n",
    "    return channel, updaterProc\n",
    "\n",
    "def StopLog(channel):\n",
    "    if _CloseMemoryLog(channel):\n",
    "        \n",
    "        ret = wmxLog.CloseMemoryLogBuffer(channel);\n",
    "        if ret != ErrorCode.PyNone:\n",
    "            CheckErrorCode(\"CloseMemoryLogBuffer\", ret)\n",
    "\n",
    "def PauseLog(channel, updaterProc):\n",
    "    ret = wmxLog.StopMemoryLog(channel)\n",
    "    if ret != ErrorCode.PyNone:\n",
    "        CheckErrorCode(\"StopMemoryLog in PauseLog()\", ret)\n",
    "    \n",
    "    sleep(0.1)\n",
    "    \n",
    "    ret, memLogStatus = wmxLog.GetMemoryLogStatus(channel)\n",
    "    if ret != ErrorCode.PyNone:\n",
    "        CheckErrorCode(\"GetMemoryLogStatus in PauseLog()\", ret)\n",
    "        return False\n",
    "                \n",
    "    print(f\"Memory Logging is paused. (samplesToCollect: {memLogStatus.samplesToCollect}, samplesCollected: {memLogStatus.samplesCollected})\") \n",
    "\n",
    "    if updaterProc:\n",
    "        updaterProc.join()\n",
    "        print(return_logupdater.values())\n",
    "    "
   ]
  },
  {
   "cell_type": "code",
   "execution_count": 8,
   "id": "268f6ae7-ccb0-4b57-a4c9-e3c54b7af8b7",
   "metadata": {},
   "outputs": [],
   "source": [
    "def UpdateLogPlot(plot_title, dumpFlag=False):\n",
    "    # history = [np.zeros((0,)), np.zeros((0,))]\n",
    "   \n",
    "    # while True:\n",
    "    #     updateLogdata, overflowFlag = UpdateLogData(log_channel, 0)\n",
    "\n",
    "    #     if overflowFlag:\n",
    "    #         print(f'Overflow: {overflowFlag}');\n",
    "    #     if not updateLogdata or len(updateLogdata) == 0:\n",
    "    #         break\n",
    "    #     if dumpFlag:\n",
    "    #         print(f'Read log buffer size: {len(updateLogdata)}')\n",
    "            \n",
    "    #     np_feedbackPos = [data.feedbackPos for data in updateLogdata]\n",
    "    #     np_feedbackVelocity = [data.feedbackVelocity for data in updateLogdata]\n",
    "        \n",
    "    #     history[0] = np.concatenate((history[0], np_feedbackPos), axis=0)\n",
    "    #     history[1] = np.concatenate((history[1], np_feedbackVelocity), axis=0)\n",
    "\n",
    "    # if dumpFlag:\n",
    "    #     print(f'Updated data size: {history[0].size}, {history[1].size}')\n",
    "    #     print(history)\n",
    "        \n",
    "    # Plot position and velocity feedbacks\n",
    "    fig, axs = plt.subplots(\n",
    "      nrows=1,\n",
    "      ncols=2,\n",
    "      sharey=False,\n",
    "      sharex=False,\n",
    "      figsize=(25, 15)\n",
    "    )\n",
    "    \n",
    "    ax = axs[0]\n",
    "    ax.plot(history[0], label='Position', color='limegreen')\n",
    "    ax.set_xlabel('Cycle')\n",
    "    ax.set_title(f'{plot_title}: Feedback Position', fontdict=title_font, pad=20)\n",
    "    ax.ticklabel_format(useOffset=False)\n",
    "    ax.legend(['Position'])\n",
    "    \n",
    "    ax = axs[1]\n",
    "    ax.plot(history[1], label='Velocity', color='violet')\n",
    "    ax.set_xlabel('Cycle')\n",
    "    ax.set_title(f'{plot_title}: Feedback Velocity', fontdict=title_font, pad=20)\n",
    "    ax.legend(['Velocity'])\n",
    "    \n",
    "    fig.tight_layout();"
   ]
  },
  {
   "cell_type": "markdown",
   "id": "0496a1cb-5e6f-45de-b649-0d3851d9d046",
   "metadata": {},
   "source": [
    "## Set the device name and start communication"
   ]
  },
  {
   "cell_type": "code",
   "execution_count": 12,
   "id": "b8726261-369c-4405-9e5e-fd2147196a4a",
   "metadata": {},
   "outputs": [],
   "source": [
    "# Set wmx3Lib Name.\n",
    "ret = wmx3Lib.SetDeviceName('MotorControl')\n",
    "if ret != ErrorCode.PyNone:\n",
    "    CheckErrorCode(\"SetDeviceName\", ret)\n",
    "    \n",
    "# Start Communication.\n",
    "ret = wmx3Lib.StartCommunication(INFINITE)\n",
    "if ret != ErrorCode.PyNone:\n",
    "    CheckErrorCode(\"StartCommunication\", ret)"
   ]
  },
  {
   "cell_type": "code",
   "execution_count": 13,
   "id": "57ada61d-f673-46d8-86c6-01a3ec856119",
   "metadata": {},
   "outputs": [
    {
     "name": "stdout",
     "output_type": "stream",
     "text": [
      "Device Id: 0 Name: \n"
     ]
    }
   ],
   "source": [
    "# Get created device state.\n",
    "ret, devInfo = wmx3Lib.GetAllDevices()\n",
    "if ret != ErrorCode.PyNone:\n",
    "    CheckErrorCode(\"GetAllDevices\", ret)\n",
    "    \n",
    "# Display the acquired device.\n",
    "print(f'Device Id: {devInfo.GetDevices(0).id} Name: {devInfo.GetDevices(0).name}')"
   ]
  },
  {
   "cell_type": "markdown",
   "id": "ee0491a3-73d6-4176-a76e-18cb3666bf1d",
   "metadata": {},
   "source": [
    "## Set servo ON ▶️"
   ]
  },
  {
   "cell_type": "code",
   "execution_count": null,
   "id": "1597f3ad-7257-4d8a-bbd1-86ce6bb9e7ac",
   "metadata": {},
   "outputs": [],
   "source": [
    "wmx3LibCore.axisControl.SetServoOn(0, 1)\n",
    "while True:\n",
    "    # wmx3LibCore.GetStatus(CmStatus)\n",
    "    ret, CmStatus = wmx3LibCore.GetStatus()\n",
    "    if CmStatus.GetAxesStatus(0).servoOn:\n",
    "        break\n",
    "    sleep(0.1)"
   ]
  },
  {
   "cell_type": "markdown",
   "id": "43556de4-baae-4fcb-86b1-04a1d40cfedd",
   "metadata": {},
   "source": [
    "## Start log "
   ]
  },
  {
   "cell_type": "code",
   "execution_count": null,
   "id": "090a9e00-327b-48d8-bfc0-0185c8622fe0",
   "metadata": {},
   "outputs": [],
   "source": [
    "# log_channel = StartLog()\n",
    "# print(log_channel)"
   ]
  },
  {
   "cell_type": "code",
   "execution_count": null,
   "id": "08d9e721-8e2b-41b9-823c-cc72d412ea42",
   "metadata": {},
   "outputs": [],
   "source": [
    "# np_logdata = GetFeedbackPos(log_channel)\n",
    "# print(np_logdata)"
   ]
  },
  {
   "cell_type": "code",
   "execution_count": null,
   "id": "ecfe3637-31da-47d7-800b-773d7a97209c",
   "metadata": {},
   "outputs": [],
   "source": [
    "# StopLog(log_channel)"
   ]
  },
  {
   "cell_type": "markdown",
   "id": "7b983d26-c1fa-4082-bb64-5a604a831fc9",
   "metadata": {},
   "source": [
    "## 1. Absolute position command (StartPos)\n",
    "\n",
    "http://download.movensys.com:8111/wmx3/en/html/api/classwmx3_api_1_1_motion.html#_CPPv4N7wmx3Api6Motion8StartPosEjP17TriggerPosCommand"
   ]
  },
  {
   "cell_type": "code",
   "execution_count": null,
   "id": "11b998e6-9304-4c25-afc7-4b55d80a7d53",
   "metadata": {},
   "outputs": [],
   "source": [
    "# Create a command value.\n",
    "posCommand = Motion_PosCommand()\n",
    "\n",
    "# Set position command parameters\n",
    "posCommand.axis = 0\n",
    "posCommand.profile.type = ProfileType.Trapezoidal\n",
    "posCommand.profile.velocity = 10000\n",
    "posCommand.profile.acc = 10000\n",
    "posCommand.profile.dec = 10000\n",
    "\n",
    "# Execute absolute position command to 10000\n",
    "posCommand.target = 100000\n",
    "\n",
    "log_channel, updater = StartLog()\n",
    "\n",
    "# Rotate the motor at the specified speed.\n",
    "err = wmx3LibCore.motion.StartPos(posCommand)\n",
    "\n",
    "if err != ErrorCode.PyNone:\n",
    "    errString = wmx3LibCore.ErrorToString(err)\n",
    "    print(\"Failed to execute motion. Error=%d (%s)\\n\", err, errString)\n",
    "\n",
    "err = wmx3LibCore.motion.Wait(0)\n",
    "PauseLog(log_channel, updater)"
   ]
  },
  {
   "cell_type": "markdown",
   "id": "58b7f028-12a7-4c6d-9770-73a88e616da7",
   "metadata": {},
   "source": [
    "### 1.1 Draw the position and velocity plots for absolute motion 📈"
   ]
  },
  {
   "cell_type": "code",
   "execution_count": null,
   "id": "195d887b-7c97-49fe-9be1-8fa126d17c3e",
   "metadata": {},
   "outputs": [],
   "source": [
    "plot_title = 'Absolute position command (StartPos)'\n",
    "UpdateLogPlot(plot_title, True)"
   ]
  },
  {
   "cell_type": "markdown",
   "id": "c9b29414-3d3d-427e-bf80-84346e6d5fde",
   "metadata": {},
   "source": [
    "## 2. Relative position command (StartMov)\n",
    "\n",
    "http://download.movensys.com:8111/wmx3/en/html/api/classwmx3_api_1_1_motion.html#_CPPv4N7wmx3Api6Motion8StartMovEP10PosCommand"
   ]
  },
  {
   "cell_type": "code",
   "execution_count": null,
   "id": "fa544381-c9fc-414d-8d9e-dffe21cda79b",
   "metadata": {},
   "outputs": [],
   "source": [
    "# Execute relative position command of 10000\n",
    "posCommand.target = 1000\n",
    "posCommand.profile.velocity = 100\n",
    "posCommand.profile.acc = 10\n",
    "posCommand.profile.dec = 10\n",
    "\n",
    "log_channel, updater = StartLog()\n",
    "\n",
    "err = wmx3LibCore.motion.StartMov(posCommand)\n",
    "\n",
    "if err != ErrorCode.PyNone:\n",
    "    errString = wmx3LibCore.ErrorToString(err)\n",
    "    print(\"Failed to execute motion. Error=%d (%s)\\n\", err, errString)\n",
    "\n",
    "# dumpStatus(cmAxis)\n",
    "err = wmx3LibCore.motion.Wait(0)\n",
    "PauseLog(log_channel, updater)"
   ]
  },
  {
   "cell_type": "markdown",
   "id": "e2a4129c-54db-4b33-8a1f-cf230afe6f3b",
   "metadata": {},
   "source": [
    "### 1.1 Draw the position and velocity plots for relative motion 📈"
   ]
  },
  {
   "cell_type": "code",
   "execution_count": null,
   "id": "e7bd0c80-e9a7-4032-9d4d-b714229c2e1a",
   "metadata": {},
   "outputs": [],
   "source": [
    "plot_title = 'Relative position command (StartMov)'\n",
    "UpdateLogPlot(plot_title, True)"
   ]
  },
  {
   "cell_type": "markdown",
   "id": "eaeec2ce-0a27-4ef6-b352-5f3b842ef6c1",
   "metadata": {},
   "source": [
    "## Set servo OFF ⏹️"
   ]
  },
  {
   "cell_type": "code",
   "execution_count": null,
   "id": "7314279e-79e0-4eae-84e0-bb30231d49e4",
   "metadata": {},
   "outputs": [],
   "source": [
    "wmx3LibCore.axisControl.SetServoOn(0, 0)\n",
    "while True:\n",
    "    # wmx3LibCore.GetStatus(CmStatus)\n",
    "    ret, CmStatus = wmx3LibCore.GetStatus()\n",
    "    if CmStatus.GetAxesStatus(0).servoOn:\n",
    "        break\n",
    "    sleep(0.1)"
   ]
  },
  {
   "cell_type": "markdown",
   "id": "b5ef2477-8595-4010-a8a4-9372451a8348",
   "metadata": {},
   "source": [
    "## Stop communication and close the WMX3 API device"
   ]
  },
  {
   "cell_type": "code",
   "execution_count": null,
   "id": "9be76025-d5f6-42a9-abd0-9e7817ca1809",
   "metadata": {},
   "outputs": [],
   "source": [
    "# ----------------------\n",
    "# Stop Communication.\n",
    "# ----------------------\n",
    "wmx3Lib.StopCommunication(INFINITE)\n",
    "\n",
    "# Close wmx3Lib.\n",
    "wmx3Lib.CloseDevice()"
   ]
  },
  {
   "cell_type": "markdown",
   "id": "7c99a942-c1c5-449f-ac8b-2d45ba596f1a",
   "metadata": {},
   "source": [
    "## Stop LMX engine"
   ]
  },
  {
   "cell_type": "code",
   "execution_count": 1,
   "id": "2c603caf-f621-4c50-9010-fe96126072de",
   "metadata": {},
   "outputs": [
    {
     "name": "stdout",
     "output_type": "stream",
     "text": [
      "lmx engine is stopped!\n"
     ]
    }
   ],
   "source": [
    "!/opt/lmx/bin/lmx-stop-engine"
   ]
  },
  {
   "cell_type": "code",
   "execution_count": null,
   "id": "8dfc1d96-8dd7-47b2-9111-042c8c2ae3ed",
   "metadata": {},
   "outputs": [],
   "source": []
  }
 ],
 "metadata": {
  "kernelspec": {
   "display_name": "Python 3 (ipykernel)",
   "language": "python",
   "name": "python3"
  },
  "language_info": {
   "codemirror_mode": {
    "name": "ipython",
    "version": 3
   },
   "file_extension": ".py",
   "mimetype": "text/x-python",
   "name": "python",
   "nbconvert_exporter": "python",
   "pygments_lexer": "ipython3",
   "version": "3.12.8"
  }
 },
 "nbformat": 4,
 "nbformat_minor": 5
}
