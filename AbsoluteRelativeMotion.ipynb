{
 "cells": [
  {
   "cell_type": "markdown",
   "id": "4ecaf3bf-0f59-455c-8d11-84453e54b2ea",
   "metadata": {},
   "source": [
    "# 📖 [LMX Tutorial] Absolute and Relative motion\n",
    "\n",
    "Refer to the following document:\n",
    "\n",
    "http://download.movensys.com:8222/doc/wmx3/en/html/api/page_WMXDOC_TUTORIAL_SEC3_1_ABS_REL.html"
   ]
  },
  {
   "cell_type": "markdown",
   "id": "21364093-6272-4be9-be00-b8dc680e105b",
   "metadata": {},
   "source": [
    "## Start LMX engine"
   ]
  },
  {
   "cell_type": "code",
   "execution_count": null,
   "id": "c2a20bf4-4f9b-40a0-947a-73a5c4937bf7",
   "metadata": {
    "editable": true,
    "slideshow": {
     "slide_type": ""
    },
    "tags": []
   },
   "outputs": [],
   "source": [
    "!/opt/lmx/bin/lmx-start-engine"
   ]
  },
  {
   "cell_type": "markdown",
   "id": "fb08326d-70a7-4a13-84a2-19a137acf0e1",
   "metadata": {},
   "source": [
    "## Import WMX library and Initialize a WMX3 API device"
   ]
  },
  {
   "cell_type": "code",
   "execution_count": null,
   "id": "6e258e72-23a7-45d5-b621-8aef6b09ca65",
   "metadata": {},
   "outputs": [],
   "source": [
    "# Import WMX3 API library\n",
    "from WMX3ApiPython import *\n",
    "# Import WMX3 Utils library for Python Notebook\n",
    "from WMX3UtilPython import *\n",
    "\n",
    "# When all the devices are done, the WMX3 engine will also terminate.\t\n",
    "wmx3Lib = WMX3Api()\n",
    "wmx3LibCore = CoreMotion(wmx3Lib)\n",
    "\n",
    "# Create a device.\n",
    "wmx3Lib.CreateDevice('/opt/lmx', DeviceType.DeviceTypeNormal, INFINITE)\n",
    "\n",
    "# Set wmx3Lib Name.\n",
    "wmx3Lib.SetDeviceName('device')\n",
    "\n",
    "# Initialize WMX3 Utils\n",
    "IntitializeWMX3Util(wmx3Lib)\n",
    "\n",
    "%matplotlib inline\n",
    "%config InlineBackend.figure_format='retina'"
   ]
  },
  {
   "cell_type": "markdown",
   "id": "0496a1cb-5e6f-45de-b649-0d3851d9d046",
   "metadata": {},
   "source": [
    "## Set the device name and start communication"
   ]
  },
  {
   "cell_type": "code",
   "execution_count": null,
   "id": "b8726261-369c-4405-9e5e-fd2147196a4a",
   "metadata": {},
   "outputs": [],
   "source": [
    "# Set wmx3Lib Name.\n",
    "ret = wmx3Lib.SetDeviceName('MotorControl')\n",
    "if ret != ErrorCode.PyNone:\n",
    "    CheckErrorCode(\"SetDeviceName\", ret)\n",
    "    \n",
    "# Start Communication.\n",
    "ret = wmx3Lib.StartCommunication(INFINITE)\n",
    "if ret != ErrorCode.PyNone:\n",
    "    CheckErrorCode(\"StartCommunication\", ret)"
   ]
  },
  {
   "cell_type": "code",
   "execution_count": null,
   "id": "57ada61d-f673-46d8-86c6-01a3ec856119",
   "metadata": {},
   "outputs": [],
   "source": [
    "# Get created device state.\n",
    "ret, devInfo = wmx3Lib.GetAllDevices()\n",
    "if ret != ErrorCode.PyNone:\n",
    "    CheckErrorCode(\"GetAllDevices\", ret)\n",
    "    \n",
    "# Display the acquired device.\n",
    "print(f'Device Id: {devInfo.GetDevices(0).id} Name: {devInfo.GetDevices(0).name}')"
   ]
  },
  {
   "cell_type": "markdown",
   "id": "ee0491a3-73d6-4176-a76e-18cb3666bf1d",
   "metadata": {},
   "source": [
    "## Set servo ON ▶️"
   ]
  },
  {
   "cell_type": "code",
   "execution_count": null,
   "id": "1597f3ad-7257-4d8a-bbd1-86ce6bb9e7ac",
   "metadata": {},
   "outputs": [],
   "source": [
    "wmx3LibCore.axisControl.SetServoOn(0, 1)\n",
    "while True:\n",
    "    # wmx3LibCore.GetStatus(CmStatus)\n",
    "    ret, CmStatus = wmx3LibCore.GetStatus()\n",
    "    if CmStatus.GetAxesStatus(0).servoOn:\n",
    "        break\n",
    "    sleep(0.1)"
   ]
  },
  {
   "cell_type": "markdown",
   "id": "7b983d26-c1fa-4082-bb64-5a604a831fc9",
   "metadata": {},
   "source": [
    "## 1. Absolute position command (StartPos)\n",
    "\n",
    "Refer to the following documentation:\n",
    "\n",
    "http://download.movensys.com:8222/doc/wmx3/en/html/api/classwmx3_api_1_1_motion.html#_CPPv4N7wmx3Api6Motion8StartPosEjP17TriggerPosCommand"
   ]
  },
  {
   "cell_type": "code",
   "execution_count": null,
   "id": "11b998e6-9304-4c25-afc7-4b55d80a7d53",
   "metadata": {},
   "outputs": [],
   "source": [
    "# Create a command value.\n",
    "posCommand = Motion_PosCommand()\n",
    "\n",
    "# Set position command parameters\n",
    "posCommand.axis = 0\n",
    "posCommand.profile.type = ProfileType.Trapezoidal\n",
    "posCommand.profile.velocity = 10000\n",
    "posCommand.profile.acc = 10000\n",
    "posCommand.profile.dec = 10000\n",
    "\n",
    "# Execute absolute position command to 10000\n",
    "posCommand.target = 100000\n",
    "\n",
    "logChannel, updater = StartLog()\n",
    "\n",
    "# Rotate the motor at the specified speed.\n",
    "err = wmx3LibCore.motion.StartPos(posCommand)\n",
    "\n",
    "if err != ErrorCode.PyNone:\n",
    "    errString = wmx3LibCore.ErrorToString(err)\n",
    "    print(\"Failed to execute motion. Error=%d (%s)\\n\", err, errString)\n",
    "\n",
    "# Wait for the motor to stop\n",
    "err = wmx3LibCore.motion.Wait(0)\n",
    "PauseLog(logChannel, updater)"
   ]
  },
  {
   "cell_type": "markdown",
   "id": "58b7f028-12a7-4c6d-9770-73a88e616da7",
   "metadata": {},
   "source": [
    "### 1.1 Draw the position and velocity plots for absolute motion 📈"
   ]
  },
  {
   "cell_type": "code",
   "execution_count": null,
   "id": "195d887b-7c97-49fe-9be1-8fa126d17c3e",
   "metadata": {},
   "outputs": [],
   "source": [
    "plot_title = 'Absolute position command (StartPos)'\n",
    "DrawLogPlot(plot_title, False)"
   ]
  },
  {
   "cell_type": "markdown",
   "id": "c9b29414-3d3d-427e-bf80-84346e6d5fde",
   "metadata": {},
   "source": [
    "## 2. Relative position command (StartMov)\n",
    "\n",
    "Refer to the following documentation:\n",
    "\n",
    "http://download.movensys.com:8222/doc/wmx3/en/html/api/classwmx3_api_1_1_motion.html#_CPPv4N7wmx3Api6Motion8StartMovEP10PosCommand"
   ]
  },
  {
   "cell_type": "code",
   "execution_count": null,
   "id": "fa544381-c9fc-414d-8d9e-dffe21cda79b",
   "metadata": {},
   "outputs": [],
   "source": [
    "# Execute relative position command of 10000\n",
    "posCommand.target = 1000\n",
    "posCommand.profile.velocity = 100\n",
    "posCommand.profile.acc = 10\n",
    "posCommand.profile.dec = 10\n",
    "\n",
    "logChannel, updater = StartLog()\n",
    "\n",
    "err = wmx3LibCore.motion.StartMov(posCommand)\n",
    "\n",
    "if err != ErrorCode.PyNone:\n",
    "    errString = wmx3LibCore.ErrorToString(err)\n",
    "    print(\"Failed to execute motion. Error=%d (%s)\\n\", err, errString)\n",
    "\n",
    "# Wait for the motor to stop\n",
    "err = wmx3LibCore.motion.Wait(0)\n",
    "PauseLog(logChannel, updater)"
   ]
  },
  {
   "cell_type": "markdown",
   "id": "e2a4129c-54db-4b33-8a1f-cf230afe6f3b",
   "metadata": {},
   "source": [
    "### 1.1 Draw the position and velocity plots for relative motion 📈"
   ]
  },
  {
   "cell_type": "code",
   "execution_count": null,
   "id": "e7bd0c80-e9a7-4032-9d4d-b714229c2e1a",
   "metadata": {},
   "outputs": [],
   "source": [
    "plot_title = 'Relative position command (StartMov)'\n",
    "DrawLogPlot(plot_title, False)"
   ]
  },
  {
   "cell_type": "markdown",
   "id": "eaeec2ce-0a27-4ef6-b352-5f3b842ef6c1",
   "metadata": {},
   "source": [
    "## Set servo OFF ⏹️"
   ]
  },
  {
   "cell_type": "code",
   "execution_count": null,
   "id": "7314279e-79e0-4eae-84e0-bb30231d49e4",
   "metadata": {},
   "outputs": [],
   "source": [
    "wmx3LibCore.axisControl.SetServoOn(0, 0)\n",
    "while True:\n",
    "    # wmx3LibCore.GetStatus(CmStatus)\n",
    "    ret, CmStatus = wmx3LibCore.GetStatus()\n",
    "    if CmStatus.GetAxesStatus(0).servoOn:\n",
    "        break\n",
    "    sleep(0.1)"
   ]
  },
  {
   "cell_type": "markdown",
   "id": "b5ef2477-8595-4010-a8a4-9372451a8348",
   "metadata": {},
   "source": [
    "## Stop communication and close the WMX3 API device"
   ]
  },
  {
   "cell_type": "code",
   "execution_count": null,
   "id": "9be76025-d5f6-42a9-abd0-9e7817ca1809",
   "metadata": {},
   "outputs": [],
   "source": [
    "# ----------------------\n",
    "# Stop Communication.\n",
    "# ----------------------\n",
    "wmx3Lib.StopCommunication(INFINITE)\n",
    "\n",
    "# Close wmx3Lib.\n",
    "wmx3Lib.CloseDevice()"
   ]
  },
  {
   "cell_type": "markdown",
   "id": "7c99a942-c1c5-449f-ac8b-2d45ba596f1a",
   "metadata": {},
   "source": [
    "## Stop LMX engine"
   ]
  },
  {
   "cell_type": "code",
   "execution_count": null,
   "id": "2c603caf-f621-4c50-9010-fe96126072de",
   "metadata": {},
   "outputs": [],
   "source": [
    "!/opt/lmx/bin/lmx-stop-engine"
   ]
  }
 ],
 "metadata": {
  "kernelspec": {
   "display_name": "Python 3 (ipykernel)",
   "language": "python",
   "name": "python3"
  },
  "language_info": {
   "codemirror_mode": {
    "name": "ipython",
    "version": 3
   },
   "file_extension": ".py",
   "mimetype": "text/x-python",
   "name": "python",
   "nbconvert_exporter": "python",
   "pygments_lexer": "ipython3",
   "version": "3.12.8"
  }
 },
 "nbformat": 4,
 "nbformat_minor": 5
}
